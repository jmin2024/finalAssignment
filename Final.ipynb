{
 "cells": [
  {
   "cell_type": "markdown",
   "id": "88c3c1b2-f46b-43f2-b93e-c7ea53e1c6a3",
   "metadata": {},
   "source": [
    "# Data Science Tools and Ecosystem"
   ]
  },
  {
   "cell_type": "markdown",
   "id": "9c3fe59b-31b6-40f1-a8c2-915806b65434",
   "metadata": {},
   "source": [
    "### In this notebook, Data Science Tools and Ecosystem are summarized"
   ]
  },
  {
   "cell_type": "markdown",
   "id": "5038b2e2-0cd5-436d-abe9-c3aa213ef244",
   "metadata": {},
   "source": [
    "##### Some of the popular languages that Data Scientists use are: \n",
    "1. Python\n",
    "2. R \n",
    "3. SQL"
   ]
  },
  {
   "cell_type": "markdown",
   "id": "367ee7e2-b2b7-4680-89f6-2feb655657b7",
   "metadata": {},
   "source": [
    "##### Some of the commonly used libraries used by Data Scientists include:\n",
    "1. Pandas\n",
    "2. Numpy\n",
    "3. Matplotlib"
   ]
  },
  {
   "cell_type": "markdown",
   "id": "7695cfca-5c71-4060-9902-ce80d09752f4",
   "metadata": {},
   "source": [
    "| Data Science Tools |\n",
    "|--------------------|\n",
    "| Jupyter Notebook |\n",
    "| RStudio |\n",
    "| Visual Studio Code |\n"
   ]
  },
  {
   "cell_type": "markdown",
   "id": "d57f6521-3f6e-4cd1-bc2c-879b868296d4",
   "metadata": {},
   "source": [
    "### Below are a few examples of evaluating arithmetic expressions in Python"
   ]
  },
  {
   "cell_type": "code",
   "execution_count": 2,
   "id": "5c927450-3979-45b5-b10e-9ee87adbfa4f",
   "metadata": {},
   "outputs": [
    {
     "data": {
      "text/plain": [
       "17"
      ]
     },
     "execution_count": 2,
     "metadata": {},
     "output_type": "execute_result"
    }
   ],
   "source": [
    "# This a simple arithmetic expression to multiply then add integers\n",
    "(3*4)+5"
   ]
  },
  {
   "cell_type": "code",
   "execution_count": 4,
   "id": "1d3e2e70-f6ba-4291-a3d1-12e149cdf397",
   "metadata": {},
   "outputs": [
    {
     "name": "stdout",
     "output_type": "stream",
     "text": [
      "2.08 hours\n"
     ]
    }
   ],
   "source": [
    "# This will convert 200 minutes to hours by diving by 60\n",
    "minutes = 125\n",
    "hours = minutes / 60\n",
    "print(f\"{hours:.2f} hours\")  "
   ]
  },
  {
   "cell_type": "markdown",
   "id": "4e15ba3f-0fe8-4b09-abe5-58de7f0e5c73",
   "metadata": {},
   "source": [
    "**Objectives:**\n",
    "- Jupyter Notebook\n",
    "- API\n",
    "- Github"
   ]
  },
  {
   "cell_type": "markdown",
   "id": "7a88697f-d4fe-40fd-b020-adf1189d0cae",
   "metadata": {},
   "source": [
    "## Author\n",
    "Jie Min"
   ]
  },
  {
   "cell_type": "code",
   "execution_count": null,
   "id": "a5a724ad-1dfc-4271-9316-f279cc4e883a",
   "metadata": {},
   "outputs": [],
   "source": []
  }
 ],
 "metadata": {
  "kernelspec": {
   "display_name": "Python [conda env:base] *",
   "language": "python",
   "name": "conda-base-py"
  },
  "language_info": {
   "codemirror_mode": {
    "name": "ipython",
    "version": 3
   },
   "file_extension": ".py",
   "mimetype": "text/x-python",
   "name": "python",
   "nbconvert_exporter": "python",
   "pygments_lexer": "ipython3",
   "version": "3.12.7"
  }
 },
 "nbformat": 4,
 "nbformat_minor": 5
}
